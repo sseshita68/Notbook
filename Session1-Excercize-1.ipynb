Write a Python program to find the title tags from a given html document.
